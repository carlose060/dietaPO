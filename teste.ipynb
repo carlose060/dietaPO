{
 "cells": [
  {
   "cell_type": "code",
   "execution_count": 1,
   "metadata": {},
   "outputs": [],
   "source": [
    "import os\n",
    "import pandas as pd"
   ]
  },
  {
   "cell_type": "code",
   "execution_count": 2,
   "metadata": {},
   "outputs": [],
   "source": [
    "df_taco = pd.read_excel('df_taco.xlsx')\n",
    "#df_taco = df_taco.replace('*', 0)\n",
    "#df_taco = df_taco.replace('Tr', 0).replace('NA', 0).replace(' ', 0).fillna(0)\n",
    "# Save df_taco in a file\n",
    "#drop de colunas id\n",
    "#df_taco.drop(['id'], axis=1, inplace=True)\n",
    "#df_taco.to_excel('df_taco.xlsx', index=False)"
   ]
  },
  {
   "cell_type": "code",
   "execution_count": 5,
   "metadata": {},
   "outputs": [
    {
     "data": {
      "text/html": [
       "<div>\n",
       "<style scoped>\n",
       "    .dataframe tbody tr th:only-of-type {\n",
       "        vertical-align: middle;\n",
       "    }\n",
       "\n",
       "    .dataframe tbody tr th {\n",
       "        vertical-align: top;\n",
       "    }\n",
       "\n",
       "    .dataframe thead th {\n",
       "        text-align: right;\n",
       "    }\n",
       "</style>\n",
       "<table border=\"1\" class=\"dataframe\">\n",
       "  <thead>\n",
       "    <tr style=\"text-align: right;\">\n",
       "      <th></th>\n",
       "      <th>Alimento</th>\n",
       "      <th>Umidade (%)</th>\n",
       "      <th>Energia (kcal)</th>\n",
       "      <th>Energia (kJ)</th>\n",
       "      <th>Proteína</th>\n",
       "      <th>Lipídeos</th>\n",
       "      <th>Colesterol (mg)</th>\n",
       "      <th>Carboidrato</th>\n",
       "      <th>Fibra</th>\n",
       "      <th>Cinzas</th>\n",
       "      <th>...</th>\n",
       "      <th>Cobre(mg)</th>\n",
       "      <th>Zinco(mg)</th>\n",
       "      <th>Retinol(mcg)</th>\n",
       "      <th>RE(mcg)</th>\n",
       "      <th>RAE (mcg)</th>\n",
       "      <th>Tiamina(mg)</th>\n",
       "      <th>Riboflavina(mg)</th>\n",
       "      <th>Piridoxina(mg)</th>\n",
       "      <th>Niacina(mg)</th>\n",
       "      <th>Vitamina C(mg)</th>\n",
       "    </tr>\n",
       "  </thead>\n",
       "  <tbody>\n",
       "    <tr>\n",
       "      <th>125</th>\n",
       "      <td>Inhame, cru</td>\n",
       "      <td>73.313333</td>\n",
       "      <td>96.699832</td>\n",
       "      <td>404.592097</td>\n",
       "      <td>2.050725</td>\n",
       "      <td>0.213333</td>\n",
       "      <td>0.0</td>\n",
       "      <td>23.232609</td>\n",
       "      <td>1.653333</td>\n",
       "      <td>1.19</td>\n",
       "      <td>...</td>\n",
       "      <td>0.17</td>\n",
       "      <td>0.3</td>\n",
       "      <td>0.0</td>\n",
       "      <td>0.0</td>\n",
       "      <td>0.0</td>\n",
       "      <td>0.08</td>\n",
       "      <td>0.0</td>\n",
       "      <td>0.106667</td>\n",
       "      <td>0.0</td>\n",
       "      <td>5.623333</td>\n",
       "    </tr>\n",
       "  </tbody>\n",
       "</table>\n",
       "<p>1 rows × 27 columns</p>\n",
       "</div>"
      ],
      "text/plain": [
       "        Alimento  Umidade (%)  Energia (kcal)  Energia (kJ)  Proteína   \n",
       "125  Inhame, cru    73.313333       96.699832    404.592097  2.050725  \\\n",
       "\n",
       "     Lipídeos  Colesterol (mg)  Carboidrato     Fibra  Cinzas  ...  Cobre(mg)   \n",
       "125  0.213333              0.0    23.232609  1.653333    1.19  ...       0.17  \\\n",
       "\n",
       "     Zinco(mg)  Retinol(mcg)  RE(mcg)  RAE (mcg)  Tiamina(mg)   \n",
       "125        0.3           0.0      0.0        0.0         0.08  \\\n",
       "\n",
       "     Riboflavina(mg) Piridoxina(mg)  Niacina(mg)  Vitamina C(mg)  \n",
       "125              0.0       0.106667          0.0        5.623333  \n",
       "\n",
       "[1 rows x 27 columns]"
      ]
     },
     "execution_count": 5,
     "metadata": {},
     "output_type": "execute_result"
    }
   ],
   "source": [
    "df_taco[df_taco['Alimento'].str.contains('inhame', case=False)]\n"
   ]
  },
  {
   "cell_type": "code",
   "execution_count": null,
   "metadata": {},
   "outputs": [],
   "source": []
  },
  {
   "cell_type": "code",
   "execution_count": 8,
   "metadata": {},
   "outputs": [
    {
     "data": {
      "text/plain": [
       "120       Farinha, de mandioca, crua\n",
       "121    Farinha, de mandioca, torrada\n",
       "122                 Farinha, de puba\n",
       "123              Fécula, de mandioca\n",
       "124               Feijão, broto, cru\n",
       "125                      Inhame, cru\n",
       "126                        Jiló, cru\n",
       "127                   Jurubeba, crua\n",
       "128                 Mandioca, cozida\n",
       "129                   Mandioca, crua\n",
       "Name: Alimento, dtype: object"
      ]
     },
     "execution_count": 8,
     "metadata": {},
     "output_type": "execute_result"
    }
   ],
   "source": [
    "df_taco.iloc[120:130, 0]"
   ]
  },
  {
   "cell_type": "code",
   "execution_count": 69,
   "metadata": {},
   "outputs": [],
   "source": [
    "values = [ 'whey', 0, 404, 0, 76, 6, 0, 13.5,0,0,0,0,0,0,0,0,0,0,0,0,0,0,0,0,0,0,0 ]\n",
    "row = {colunas: value for colunas, value in zip(df_taco.columns.tolist(),values)}\n",
    "\n",
    "df = pd.concat([df_taco, pd.DataFrame(row, index=[0])], ignore_index=True)"
   ]
  },
  {
   "cell_type": "code",
   "execution_count": 72,
   "metadata": {},
   "outputs": [
    {
     "data": {
      "text/html": [
       "<div>\n",
       "<style scoped>\n",
       "    .dataframe tbody tr th:only-of-type {\n",
       "        vertical-align: middle;\n",
       "    }\n",
       "\n",
       "    .dataframe tbody tr th {\n",
       "        vertical-align: top;\n",
       "    }\n",
       "\n",
       "    .dataframe thead th {\n",
       "        text-align: right;\n",
       "    }\n",
       "</style>\n",
       "<table border=\"1\" class=\"dataframe\">\n",
       "  <thead>\n",
       "    <tr style=\"text-align: right;\">\n",
       "      <th></th>\n",
       "      <th>id</th>\n",
       "      <th>Alimento</th>\n",
       "      <th>Umidade (%)</th>\n",
       "      <th>Energia (kcal)</th>\n",
       "      <th>Energia (kJ)</th>\n",
       "      <th>Proteína</th>\n",
       "      <th>Lipídeos</th>\n",
       "      <th>Colesterol (mg)</th>\n",
       "      <th>Carboidrato</th>\n",
       "      <th>Fibra</th>\n",
       "      <th>...</th>\n",
       "      <th>Cobre(mg)</th>\n",
       "      <th>Zinco(mg)</th>\n",
       "      <th>Retinol(mcg)</th>\n",
       "      <th>RE(mcg)</th>\n",
       "      <th>RAE (mcg)</th>\n",
       "      <th>Tiamina(mg)</th>\n",
       "      <th>Riboflavina(mg)</th>\n",
       "      <th>Piridoxina(mg)</th>\n",
       "      <th>Niacina(mg)</th>\n",
       "      <th>Vitamina C(mg)</th>\n",
       "    </tr>\n",
       "  </thead>\n",
       "  <tbody>\n",
       "    <tr>\n",
       "      <th>125</th>\n",
       "      <td>126</td>\n",
       "      <td>Inhame, cru</td>\n",
       "      <td>73.313333</td>\n",
       "      <td>96.699832</td>\n",
       "      <td>404.592097</td>\n",
       "      <td>2.050725</td>\n",
       "      <td>0.213333</td>\n",
       "      <td>0</td>\n",
       "      <td>23.232609</td>\n",
       "      <td>1.653333</td>\n",
       "      <td>...</td>\n",
       "      <td>0.17</td>\n",
       "      <td>0.3</td>\n",
       "      <td>0</td>\n",
       "      <td>0.0</td>\n",
       "      <td>0.0</td>\n",
       "      <td>0.08</td>\n",
       "      <td>0</td>\n",
       "      <td>0.106667</td>\n",
       "      <td>0</td>\n",
       "      <td>5.623333</td>\n",
       "    </tr>\n",
       "  </tbody>\n",
       "</table>\n",
       "<p>1 rows × 28 columns</p>\n",
       "</div>"
      ],
      "text/plain": [
       "      id     Alimento Umidade (%) Energia (kcal) Energia (kJ)  Proteína   \n",
       "125  126  Inhame, cru   73.313333      96.699832   404.592097  2.050725  \\\n",
       "\n",
       "     Lipídeos Colesterol (mg) Carboidrato     Fibra  ... Cobre(mg) Zinco(mg)   \n",
       "125  0.213333               0   23.232609  1.653333  ...      0.17       0.3  \\\n",
       "\n",
       "    Retinol(mcg) RE(mcg) RAE (mcg) Tiamina(mg) Riboflavina(mg) Piridoxina(mg)   \n",
       "125            0     0.0       0.0        0.08               0       0.106667  \\\n",
       "\n",
       "    Niacina(mg) Vitamina C(mg)  \n",
       "125           0       5.623333  \n",
       "\n",
       "[1 rows x 28 columns]"
      ]
     },
     "execution_count": 72,
     "metadata": {},
     "output_type": "execute_result"
    }
   ],
   "source": [
    "df_taco[df_taco['Alimento'].str.contains('inhame', case=False)]    "
   ]
  },
  {
   "cell_type": "code",
   "execution_count": null,
   "metadata": {},
   "outputs": [],
   "source": []
  },
  {
   "cell_type": "code",
   "execution_count": null,
   "metadata": {},
   "outputs": [],
   "source": []
  },
  {
   "cell_type": "code",
   "execution_count": 6,
   "metadata": {},
   "outputs": [],
   "source": [
    "alimentos_selecionados = [\n",
    "            df_taco.iloc[0],\n",
    "            df_taco.iloc[6],\n",
    "            df_taco.iloc[47], \n",
    "            df_taco.iloc[109],\n",
    "            df_taco.iloc[181],\n",
    "            df_taco.iloc[407],\n",
    "            df_taco.iloc[467],\n",
    "            df_taco.iloc[488],\n",
    "            df_taco.iloc[574],\n",
    "            ]"
   ]
  },
  {
   "cell_type": "code",
   "execution_count": 22,
   "metadata": {},
   "outputs": [],
   "source": [
    "micros = {key: 0 for key in alimentos_selecionados[0].keys().tolist()[9:]}\n",
    "list(micros.keys())\n",
    "alimentos_selecionados[0].keys().tolist()[5:].remove('Colesterol (mg)')\n"
   ]
  },
  {
   "cell_type": "code",
   "execution_count": 40,
   "metadata": {},
   "outputs": [
    {
     "data": {
      "text/plain": [
       "['', 'd', '', '>=', '1']"
      ]
     },
     "execution_count": 40,
     "metadata": {},
     "output_type": "execute_result"
    }
   ],
   "source": [
    "import re\n",
    "def isdigit(x):\n",
    "    try:\n",
    "        float(x)\n",
    "        return True\n",
    "    except:\n",
    "        return x.isdigit()\n",
    "restricao_str = 'd >= 1'\n",
    "re.split(r'\\s*([><+=-]+|[a-zA-Z]+)\\s*', restricao_str)\n"
   ]
  },
  {
   "cell_type": "code",
   "execution_count": 17,
   "metadata": {},
   "outputs": [
    {
     "data": {
      "text/plain": [
       "id                                           489\n",
       "Alimento           Ovo, de galinha, inteiro, cru\n",
       "Umidade (%)                                 75.6\n",
       "Energia (kcal)                        143.111733\n",
       "Energia (kJ)                          598.779492\n",
       "Proteína                                   13.03\n",
       "Lipídeos                                     8.9\n",
       "Colesterol (mg)                           355.94\n",
       "Carboidrato                             1.636667\n",
       "Fibra                                          0\n",
       "Cinzas                                  0.833333\n",
       "Cálcio(mg)                             42.023333\n",
       "Magnésio(mg)                               12.66\n",
       "Manganês(mg)                                   0\n",
       "Fósforo(mg)                               164.35\n",
       "Ferro(mg)                               1.563333\n",
       "Sódio(mg)                                 167.91\n",
       "Potássio(mg)                                 150\n",
       "Cobre(mg)                                   0.06\n",
       "Zinco(mg)                               1.083333\n",
       "Retinol(mcg)                           78.826667\n",
       "RE(mcg)                                      0.0\n",
       "RAE (mcg)                                    0.0\n",
       "Tiamina(mg)                                 0.07\n",
       "Riboflavina(mg)                             0.58\n",
       "Piridoxina(mg)                                 0\n",
       "Niacina(mg)                                 0.75\n",
       "Vitamina C(mg)                                 0\n",
       "Name: 488, dtype: object"
      ]
     },
     "execution_count": 17,
     "metadata": {},
     "output_type": "execute_result"
    }
   ],
   "source": [
    "df_taco.replace('', 0)\n",
    "df_taco.replace(' ', 0)\n",
    "(df_taco.iloc[488]['Vitamina C(mg)'])\n",
    "df_taco.iloc[488]"
   ]
  },
  {
   "cell_type": "code",
   "execution_count": 7,
   "metadata": {},
   "outputs": [
    {
     "name": "stdout",
     "output_type": "stream",
     "text": [
      "['Cálcio(mg)', '1000']\n",
      "['Magnésio(mg)', '260']\n",
      "['Manganês(mg)', '2.3']\n",
      "['Fósforo(mg)', '700']\n",
      "['Ferro(mg)', '14']\n",
      "['Sódio(mg)', '2400']\n",
      "['Potássio(mg)', '3500']\n",
      "['Cobre(mg)', '0.9']\n",
      "['Zinco(mg)', '7']\n",
      "['Retinol(mcg)', '600']\n",
      "['Tiamina(mg)', '1.2']\n",
      "['Riboflavina(mg)', '1.3']\n",
      "['Piridoxina(mg)', '1.3']\n",
      "['Niacina(mg)', '16']\n",
      "['Vitamina', 'C(mg)', '45']\n"
     ]
    }
   ],
   "source": [
    "dict_recomendado = {\n",
    "    'Cálcio': 1000, \n",
    "    'Magnésio': 260, \n",
    "    'Manganês': 2.3, \n",
    "    'Fósforo': 700, \n",
    "    'Ferro': 14, \n",
    "    'Sódio': 2400, \n",
    "    'Potássio': 3500, \n",
    "    'Cobre': 0.9, \n",
    "    'Zinco': 7, \n",
    "    'Retinol': 600,  \n",
    "    'Tiamina': 1.2, \n",
    "    'Riboflavina': 1.3, \n",
    "    'Piridoxina': 1.3, \n",
    "    'Niacina': 16, \n",
    "    'Vitamina C': 45,}\n",
    "d_recomendado = {}\n",
    "with open('valores_recomendados.txt', 'r') as f:\n",
    "    for line in f.readlines():\n",
    "        if len(line[:-1].split(' ')) == 2:\n",
    "            key, value = line[:-1].split(' ')\n",
    "        else:\n",
    "            key, key2, value = line[:-1].split(' ')\n",
    "            key = f'{str(key)} {str(key2)}'\n",
    "        dict_recomendado[key] = float(value)"
   ]
  }
 ],
 "metadata": {
  "kernelspec": {
   "display_name": "Python 3",
   "language": "python",
   "name": "python3"
  },
  "language_info": {
   "codemirror_mode": {
    "name": "ipython",
    "version": 3
   },
   "file_extension": ".py",
   "mimetype": "text/x-python",
   "name": "python",
   "nbconvert_exporter": "python",
   "pygments_lexer": "ipython3",
   "version": "3.8.10"
  },
  "orig_nbformat": 4
 },
 "nbformat": 4,
 "nbformat_minor": 2
}
